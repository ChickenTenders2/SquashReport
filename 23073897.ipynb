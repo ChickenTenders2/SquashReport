{
 "cells": [
  {
   "cell_type": "code",
   "execution_count": 15,
   "metadata": {},
   "outputs": [],
   "source": [
    "import random\n",
    "import matplotlib.pyplot as plt\n",
    "import csv "
   ]
  },
  {
   "cell_type": "markdown",
   "metadata": {},
   "source": [
    "Question 1\n",
    "==========\n",
    "\n",
    "All parts of Question 1 use the _point-a-rally (PARS) scoring_ system.\n",
    "\n",
    "**Question 1a:** Complete the following function so that it implements the PARS algorithm from the coursework specification.\n",
    "\n",
    "**[Functionality: 7 marks]**"
   ]
  },
  {
   "cell_type": "code",
   "execution_count": 16,
   "metadata": {},
   "outputs": [],
   "source": [
    "def game(ra, rb): #simulating a game between player_a and player_b\n",
    "    prob_a = ra/(ra+rb)\n",
    "    player_a = 0\n",
    "    player_b = 0\n",
    "    points_to_win = 11\n",
    "\n",
    "    while True:\n",
    "        r = random.random()\n",
    "        if prob_a > r:\n",
    "            player_a += 1\n",
    "        else:\n",
    "            player_b += 1\n",
    "        if player_a >= points_to_win or player_b >= points_to_win:\n",
    "            if abs(player_a - player_b) > 2:\n",
    "                break\n",
    "    return (player_a, player_b)"
   ]
  },
  {
   "cell_type": "markdown",
   "metadata": {},
   "source": [
    "**Testing:** If the random seed is set to 57, then calling the function with arguments `70` and `30` should return `(11,5)`."
   ]
  },
  {
   "cell_type": "code",
   "execution_count": 17,
   "metadata": {},
   "outputs": [
    {
     "name": "stdout",
     "output_type": "stream",
     "text": [
      "(11, 5)\n"
     ]
    }
   ],
   "source": [
    "random.seed(57)\n",
    "print(game(70, 30))"
   ]
  },
  {
   "cell_type": "markdown",
   "metadata": {},
   "source": [
    "**Question 1b:** Complete the following function `win_probability_game(ra, rb, simulations)` to simulate `simulations` games in order to estimate the probability that a player with ability `ra` will win a game against a player of ability `rb`.\n",
    "\n",
    "**[Functionality: 4 marks]**"
   ]
  },
  {
   "cell_type": "code",
   "execution_count": 18,
   "metadata": {},
   "outputs": [],
   "source": [
    "def win_probability_game(ra, rb, simulations): #probability that player_a will win against player_b in simulation games\n",
    "    player_a_wins = 0\n",
    "\n",
    "    for i in range(simulations):\n",
    "        player_a, player_b = game(ra, rb)\n",
    "        if player_a > player_b: \n",
    "            player_a_wins += 1\n",
    "\n",
    "    prob = player_a_wins/simulations\n",
    "    return prob "
   ]
  },
  {
   "cell_type": "markdown",
   "metadata": {},
   "source": [
    "**Testing:** Given sufficient simulations, calling the function with abilities `70` and `30` should give the answer `0.98` when printed to 2 decimal places."
   ]
  },
  {
   "cell_type": "code",
   "execution_count": 19,
   "metadata": {},
   "outputs": [
    {
     "name": "stdout",
     "output_type": "stream",
     "text": [
      "0.98\n"
     ]
    }
   ],
   "source": [
    "# Print win_probability_game(70, 30) to 2 decimal places for a suitable value of n:\n",
    "print(round(win_probability_game(70, 30, 50), 2))"
   ]
  },
  {
   "cell_type": "markdown",
   "metadata": {},
   "source": [
    "**Question 1c:** Assume players abilities are given in a csv file with the format:\n",
    "```\n",
    "player a ability, player b ability,\n",
    "60, 20,\n",
    "100, 55,\n",
    "50, 40,\n",
    "20, 70,\n",
    "95, 85,\n",
    "```\n",
    "Complete the following function to read in a specified csv file of this format and return a `list` of `tuple`s containing each pair of abilities.\n",
    "\n",
    "**[Functionality: 4 marks]**"
   ]
  },
  {
   "cell_type": "code",
   "execution_count": 20,
   "metadata": {},
   "outputs": [],
   "source": [
    "def read_abilities(csv_file): # HINT: what should the argument be?\n",
    "    data = list() #create list\n",
    "    with open(csv_file) as csvfile: #open variable as csvfile\n",
    "        reader = csv.reader(csvfile) \n",
    "        next(reader) #skip first row\n",
    "        for row in reader: \n",
    "            data.append((int(row[0]), int(row[1]))) #for each row, add each row to the list\n",
    "    return data"
   ]
  },
  {
   "cell_type": "markdown",
   "metadata": {},
   "source": [
    "**Testing:** Calling the function to read the file `test.csv` from Learning Central should return `[(60, 20), (100, 55), (50, 40), (20, 70), (95, 85)]`"
   ]
  },
  {
   "cell_type": "code",
   "execution_count": 21,
   "metadata": {},
   "outputs": [
    {
     "name": "stdout",
     "output_type": "stream",
     "text": [
      "[(60, 20), (100, 55), (50, 40), (20, 70), (95, 85)]\n"
     ]
    }
   ],
   "source": [
    "# Print the result of calling the function for the file `test.csv`\n",
    "print(read_abilities(csv_file=\"test.csv\"))"
   ]
  },
  {
   "cell_type": "markdown",
   "metadata": {},
   "source": [
    "**Question 1d:** Write a function that takes a `list` of the format returned by your answer to 1c as an argument, and uses `matplotlib` to produce a plot (with labelled axes) showing the probability that player a beats player b (in a game) against `ra / r_b` for each pair.\n",
    "\n",
    "**[Functionality: 5 marks]**"
   ]
  },
  {
   "cell_type": "code",
   "execution_count": 22,
   "metadata": {},
   "outputs": [],
   "source": [
    "def plot_win_probabilities(values): # HINT: what should the argument be?\n",
    "    X = list()\n",
    "    Y = list()\n",
    "    for i in values:\n",
    "        X.append(int(i[0])/int(i[1]))\n",
    "        Y.append(win_probability_game(int(i[0]), int(i[1]), 1000))\n",
    "    plt.title(\"Probability that player_a beats player_b vs ra/rb\")\n",
    "    plt.xlabel(\"ra/rb\")\n",
    "    plt.ylabel(\"Probability that a wins\")\n",
    "    plt.axis([0, 3, 0, 1])\n",
    "    plt.plot(X, Y, 'bo')\n",
    "    plt.show()"
   ]
  },
  {
   "cell_type": "markdown",
   "metadata": {},
   "source": [
    "**Testing:** The following figure (or similar) should result from the data `[(60, 20), (100, 55), (50, 40), (20, 70), (95, 85)]'\n",
    "\n",
    "<img src=\"./win_probabilities.png\" alt=\"Win probabilities\" width=\"500\">\n"
   ]
  },
  {
   "cell_type": "code",
   "execution_count": 23,
   "metadata": {},
   "outputs": [
    {
     "data": {
      "image/png": "[encoded data removed]",
      "text/plain": [
       "<Figure size 640x480 with 1 Axes>"
      ]
     },
     "metadata": {},
     "output_type": "display_data"
    }
   ],
   "source": [
    "# Call the function to plot the figure here\n",
    "plot_win_probabilities(read_abilities(csv_file=\"test.csv\"))"
   ]
  },
  {
   "cell_type": "markdown",
   "metadata": {},
   "source": [
    "**Question 1e:** Complete the following function `win_probability_match(ra, rb, simulations, m)` to simulate `simulations` matches which are won by the first player to win `m` games, and returns an estimate of the probability that a player with ability `ra` will win such a match against a player of ability `rb`.\n",
    "\n",
    "Provide code that works out the smallest value of `m` such that `win_probability_match(60, 40, simulations, m)` is at least `0.9`. \n",
    "\n",
    "_HINT: make sure you use an appropriate value for `simulations`._\n",
    "\n",
    "**[Functionality: 5 marks]**"
   ]
  },
  {
   "cell_type": "code",
   "execution_count": 24,
   "metadata": {},
   "outputs": [
    {
     "name": "stdout",
     "output_type": "stream",
     "text": [
      "The lowest amount of wins needed in 1000 games to get at least a probability of 0.9 is 900 games\n",
      "0.9\n"
     ]
    }
   ],
   "source": [
    "def win_probability_match(ra, rb, simulations, m):\n",
    "    player_a_match_wins_in_simulation = 0\n",
    "    player_a_wins = 0\n",
    "    player_b_wins = 0\n",
    "\n",
    "    for i in range(simulations):\n",
    "\n",
    "        while player_a_wins < m and player_b_wins < m:\n",
    "            winner = game(ra, rb)\n",
    "            if winner[0] > winner[1]:\n",
    "                player_a_wins += 1\n",
    "            else:\n",
    "                player_b_wins += 1\n",
    "\n",
    "    prob_match = player_a_wins/simulations\n",
    "    return prob_match\n",
    "\n",
    "simulations = 1000 # can be any value\n",
    "m = 1\n",
    "while win_probability_match(60, 40, simulations, m) < 0.9:\n",
    "    m += 1\n",
    "print(f\"The lowest amount of wins needed in {simulations} games to get at least a probability of 0.9 is {m} games\")\n",
    "\n",
    "print(win_probability_match(60, 40, 1000, 900))"
   ]
  },
  {
   "cell_type": "markdown",
   "metadata": {},
   "source": [
    "Question 2\n",
    "==========\n",
    "\n",
    "Complete the remaining template of a scientific report that uses the results of simulation (with suitable input data) to investigate whether English or PARS is the ``better'' scoring method for squash matches. \n",
    "\n",
    "You should clearly state any assumptions you make, and may add any number of code cells. Guidance for completing the markdown/text cells is given in the coursework specification. The word count of the remaining markdown/text cells must be at most 750.\n",
    "\n",
    "Your investigation should consider the relative ability of the two players (i.e. `ra/rb`) as the _independent variable_ and include appropriate figures that show how your choice of relevant _dependent variable_ varies. Your results **must** cover at least 50 different values of `ra/rb`.\n",
    "\n",
    "Some starting points you may consider:\n",
    "- How _fair_ is the scoring method - does the better player usually win?\n",
    "- Shorter matches are usually preferable (e.g. for television) - if you assume each rally in a match takes equal time, how long do matches typically last?\n",
    "- What effect does the relative ability of the two players have?\n",
    "\n",
    "**[Report: 7 marks; Achievement: 8 marks]**"
   ]
  },
  {
   "cell_type": "markdown",
   "metadata": {},
   "source": [
    "## Problem\n",
    "\n",
    "The objective of this investigation is to compare and examine between the 2 scoring methods of squash matches, English and PARS (Point-a-Rally Scoring), ultimately evaluating which is the \"better\" scoring method. The measure of \"better\" will be determined based on the fairness and the match durations of each scoring method, experimenting whether the better player, determined by a higher relative ability number, typically ends up winning, moreover within less time for one of the scoring methods.\n"
   ]
  },
  {
   "cell_type": "markdown",
   "metadata": {},
   "source": [
    "## Method\n",
    "\n",
    "To measure the objective of this investigation, a simulation of squash matches for both scoring methods will be conducted. \n",
    "\n",
    "#### Parameters and Measurements \n",
    "\n",
    "1. Scoring Methods: English and PARS.\n",
    "\n",
    "2. Independent Variable:\n",
    "    - At least 50 different combination values for ra/rb, each value tested a specific amount of times for more accurate results.\n",
    "    \n",
    "3. Dependent Variables:\n",
    "    - Fairness (Match outcome of the better player across both scoring methods).\n",
    "    - Match Durations (Average duration of matches for each ra/rb values).\n",
    "\n",
    "#### Replicability\n",
    "\n",
    "Method is stated with sufficient detail to allow a replication of the results."
   ]
  },
  {
   "cell_type": "markdown",
   "metadata": {},
   "source": [
    "## Hypothesis\n",
    "1. The PARS scoring method should generally have a shorter average match durations than the English scoring method.\n",
    "2. The player with the highest player ability number typically wins the squash matches.\n",
    "\n",
    "## Assumptions\n",
    "\n",
    "1. A controlled variable of the investigation is that each rally in a match will take equal time, despite the type of scoring method.\n",
    "2. Another controlled variable is the ability of player b (rb), it should remain consistent throughout the investigation.\n",
    "2. The simulation accurately represents real-world squash match rules for both scoring methods.\n",
    "3. The relative values ra/rb should accurately represent the player's real abilities."
   ]
  },
  {
   "cell_type": "markdown",
   "metadata": {},
   "source": [
    "## Experimentation"
   ]
  },
  {
   "cell_type": "code",
   "execution_count": 27,
   "metadata": {},
   "outputs": [
    {
     "data": {
      "image/png": "[encoded data removed]",
      "text/plain": [
       "<Figure size 640x480 with 1 Axes>"
      ]
     },
     "metadata": {},
     "output_type": "display_data"
    },
    {
     "name": "stdout",
     "output_type": "stream",
     "text": [
      "Figure 2: The win probability for the player (player a) with the higher ability number for the PARS scoring method:\n",
      "\n",
      "0.85\n",
      "0.85\n",
      "0.87\n",
      "0.86\n",
      "0.85\n",
      "0.86\n",
      "0.85\n",
      "0.86\n",
      "0.84\n",
      "0.85\n",
      "\n",
      "Figure 3: The win probability for the player (player a) with the higher ability number for the English scoring method:\n",
      "\n",
      "0.88\n",
      "0.89\n",
      "0.88\n",
      "0.88\n",
      "0.91\n",
      "0.89\n",
      "0.88\n",
      "0.89\n",
      "0.86\n",
      "0.86\n"
     ]
    }
   ],
   "source": [
    "def EnglishGame(ra, rb):\n",
    "    prob_a = ra/(ra+rb)\n",
    "    player_a = 0\n",
    "    player_b = 0\n",
    "    rallies = 0\n",
    "    points_to_win = 9\n",
    "    gameOver = False\n",
    "    server = \"\"\n",
    "\n",
    "    while gameOver == False:\n",
    "        r = random.random()\n",
    "        if prob_a > r:\n",
    "            if server == \"a\":\n",
    "                player_a += 1\n",
    "            else:\n",
    "                server = \"a\"\n",
    "        else:\n",
    "            if server == \"b\":\n",
    "                player_b += 1\n",
    "            else:\n",
    "                server = \"b\"\n",
    "        if player_a == 8 and player_b == 8:\n",
    "            if 0.5 > r: \n",
    "                points_to_win = 10\n",
    "        rallies += 1 \n",
    "        \n",
    "        if player_a >= points_to_win or player_b >= points_to_win:\n",
    "            gameOver = True\n",
    "    return player_a, player_b, rallies\n",
    "\n",
    "def pars_average_rallies(ra, rb, n):\n",
    "    pRallies = 0\n",
    "    for i in range(n):\n",
    "        player_a, player_b = game(ra, rb)\n",
    "        pRallies += (player_a + player_b)\n",
    "    pRallies = round((pRallies/n), 2)\n",
    "    return pRallies\n",
    "\n",
    "def eng_average_rallies(ra, rb, n):\n",
    "    eRallies = 0\n",
    "    for i in range(n):\n",
    "        rallies_a_game = EnglishGame(ra, rb)[2]\n",
    "        eRallies += rallies_a_game\n",
    "    eRallies = round((eRallies/n), 2)\n",
    "    return eRallies\n",
    "\n",
    "def plot_results(player_range):\n",
    "    eng_rallies = list()\n",
    "    pars_rallies = list()\n",
    "    X = list()\n",
    "\n",
    "    for i in player_range:\n",
    "        eng_rallies.append(eng_average_rallies(i[0], i[1], 1000))\n",
    "        pars_rallies.append(pars_average_rallies(i[0], i[1], 1000))\n",
    "        X.append(i[0]/i[1])\n",
    "\n",
    "    plt.plot(X, pars_rallies, \"b--\", label=\"PARS (Point-a-Rally) Scoring Method\")\n",
    "    plt.plot(X, eng_rallies, \"r--\", label=\"English Scoring Method\")\n",
    "    plt.title(\"Figure 1: Relative Abilities vs Duration of Matches between the English and PARS scoring methods\\n\\n Blue = PARS      Red = English\")\n",
    "    plt.xlabel(\"ra/rb (ability)\")\n",
    "    plt.ylabel(\"Average duration of matches (rallies)\")\n",
    "    plt.axis([0, 3.5, 0, 35])\n",
    "    plt.show()\n",
    "\n",
    "plot_results(read_abilities(csv_file=\"relativeAbility.csv\"))\n",
    "\n",
    "def win_probability_game(ra, rb, simulations): \n",
    "    player_a_wins = 0\n",
    "\n",
    "    for i in range(simulations):\n",
    "        player_a, player_b = game(ra, rb)\n",
    "        if player_a > player_b: \n",
    "            player_a_wins += 1\n",
    "\n",
    "    prob = player_a_wins/simulations\n",
    "    return prob \n",
    "\n",
    "print(\"Figure 2: The win probability for the player (player a) with the higher ability number for the PARS scoring method:\\n\")\n",
    "\n",
    "for i in range(10):\n",
    "    print(round(win_probability_game(60, 40, 1000), 2))\n",
    "\n",
    "def eng_win_probability_game(ra, rb, simulations): \n",
    "    player_a_wins = 0\n",
    "\n",
    "    for i in range(simulations):\n",
    "        player_a, player_b, rallies = EnglishGame(ra, rb)\n",
    "        if player_a > player_b: \n",
    "            player_a_wins += 1\n",
    "\n",
    "    prob = player_a_wins/simulations\n",
    "    return prob \n",
    "\n",
    "print(\"\\nFigure 3: The win probability for the player (player a) with the higher ability number for the English scoring method:\\n\")\n",
    "\n",
    "for i in range(10):\n",
    "    print(round(eng_win_probability_game(60, 40, 1000), 2))"
   ]
  },
  {
   "cell_type": "markdown",
   "metadata": {},
   "source": [
    "## Results\n",
    "\n",
    "After taking consideration to the objective of the investigation, the method, and the assumptions, an experiment was conducted to test the 2 different scoring methods on both the win probability of the player with the higher ability number, and the duration of matches between the 2 scoring methods. \n",
    "\n",
    "Firstly, figure 1 displays the average duration of matches (measured in rallies) for both scoring methods with a controlled ra/rb ability range. The ra/rb ability range values are listed in the csv file \"relativeAbility\" attached to this same folder. The blue line represents the PARS scoring method while the red line represents the English scoring method. Observing the graph, the PARS scoring method mostly has a lower average duration of matches when compared to the English scoring method. The only anomaly is prior to the intersection point between both lines, where the English scoring method has a lower average duration of matches. Referring to the hypothesis, figure 1 proves that PARS will generally create shorter squash games, which ends up being preferable such as for televisions. \n",
    "\n",
    "Secondly, a win probability test (figure 2 and figure 3) for player a, the player with the higher ability number, was tested 10 times for each scoring methods, the conclusion drawn from this is that despite the scoring methods and how many times a simulation is ran, the player with the higher ability number will typically win the squash match with always having a win probability of 0.8 and above (maximum win probability being set at 1.0)."
   ]
  },
  {
   "cell_type": "markdown",
   "metadata": {},
   "source": [
    "## Conclusions\n",
    "\n",
    "In conclusion, the hypothesis of the experiment has proven to be correct, since both scoring methods prove that the player with the higher ability number will for the most part win, it is reasonable to conclude that PARS generally is the better scoring method, as it provides a shorter average match duration to promote efficiency in match play while keeping a realistic and fair scoring method that the stronger player typically wins. \n",
    "\n",
    "However, limitations to the investigation are the player ability representations and win probability are simplified, the model assumes that the player’s ability and win probability will remain it’s assigned value throughout all matches, decreasing the realism and takes out the possibility of interruptions with the player’s physical performance and environmental factors. Additionally, the assumption of each rally taking equal time takes away more realism from this investigation as each rally should have different durations.\n",
    "\n",
    "With that said, potential future extensions to the investigation could bring in more realistic components, such as a more dynamic player ability model where the player’s ability varies throughout a single match, different rally durations each time, and player factors such as player fatigue. \n",
    "\n",
    "Regardless, the investigation was successful in terms of comparing and contrasting between the 2 scoring methods for squash, as well as the knowledge gained from learning to model the simulations of this investigation through Python. "
   ]
  }
 ],
 "metadata": {
  "interpreter": {
   "hash": "183b6f3dd52b9ae2bd385afe1588cc6cf56d78005d888e2b09b3c195f16f84ec"
  },
  "kernelspec": {
   "display_name": "Python 3.9.1 64-bit ('base': conda)",
   "name": "python3"
  },
  "language_info": {
   "codemirror_mode": {
    "name": "ipython",
    "version": 3
   },
   "file_extension": ".py",
   "mimetype": "text/x-python",
   "name": "python",
   "nbconvert_exporter": "python",
   "pygments_lexer": "ipython3",
   "version": "3.12.0"
  },
  "orig_nbformat": 4
 },
 "nbformat": 4,
 "nbformat_minor": 2
}
